{
 "cells": [
  {
   "cell_type": "code",
   "execution_count": 1,
   "metadata": {},
   "outputs": [
    {
     "name": "stderr",
     "output_type": "stream",
     "text": [
      "/home/amir/miniconda3/envs/doc-ai/lib/python3.10/site-packages/tqdm/auto.py:21: TqdmWarning: IProgress not found. Please update jupyter and ipywidgets. See https://ipywidgets.readthedocs.io/en/stable/user_install.html\n",
      "  from .autonotebook import tqdm as notebook_tqdm\n"
     ]
    }
   ],
   "source": [
    "\n",
    "import os\n",
    "import re\n",
    "import json\n",
    "from collections import Counter\n",
    "from itertools import chain\n",
    "from pathlib import Path\n",
    "from typing import List, Dict, Union, Tuple, Any\n",
    "\n",
    "import matplotlib.pyplot as plt\n",
    "import numpy as np\n",
    "import pandas as pd\n",
    "import torch\n",
    "from PIL import Image\n",
    "from sklearn.model_selection import StratifiedKFold\n",
    "from torch.utils.data import DataLoader\n",
    "from transformers import (\n",
    "    DonutProcessor,\n",
    "    VisionEncoderDecoderConfig,\n",
    "    VisionEncoderDecoderModel,\n",
    "    get_scheduler,\n",
    "    Trainer,\n",
    "    TrainingArguments\n",
    ")\n",
    "from datasets import load_dataset, Dataset, Image as ds_img\n",
    "from polyleven import levenshtein  # a faster version of levenshtein"
   ]
  },
  {
   "cell_type": "code",
   "execution_count": 2,
   "metadata": {},
   "outputs": [],
   "source": [
    "# Load the SROIE-2019-V2 dataset\n",
    "ds = load_dataset(\"rth/sroie-2019-v2\")\n",
    "\n",
    "# Preprocess the data\n",
    "def preprocess(example):\n",
    "    example['text'] = \"; \".join([f\"{k}: {v}\" for k, v in example['objects']['entities'].items()])\n",
    "    return example\n",
    "\n",
    "ds = ds.map(preprocess)"
   ]
  },
  {
   "cell_type": "code",
   "execution_count": 3,
   "metadata": {},
   "outputs": [
    {
     "data": {
      "text/plain": [
       "{'image': Image(mode=None, decode=True, id=None),\n",
       " 'objects': {'bbox': Sequence(feature=Sequence(feature=Sequence(feature=Value(dtype='int64', id=None), length=-1, id=None), length=-1, id=None), length=-1, id=None),\n",
       "  'text': Sequence(feature=Value(dtype='string', id=None), length=-1, id=None),\n",
       "  'entities': {'company': Value(dtype='string', id=None),\n",
       "   'date': Value(dtype='string', id=None),\n",
       "   'address': Value(dtype='string', id=None),\n",
       "   'total': Value(dtype='string', id=None)}},\n",
       " 'text': Value(dtype='string', id=None)}"
      ]
     },
     "execution_count": 3,
     "metadata": {},
     "output_type": "execute_result"
    }
   ],
   "source": [
    "ds['train'].features"
   ]
  },
  {
   "cell_type": "code",
   "execution_count": null,
   "metadata": {},
   "outputs": [],
   "source": []
  }
 ],
 "metadata": {
  "kernelspec": {
   "display_name": "doc-ai",
   "language": "python",
   "name": "python3"
  },
  "language_info": {
   "codemirror_mode": {
    "name": "ipython",
    "version": 3
   },
   "file_extension": ".py",
   "mimetype": "text/x-python",
   "name": "python",
   "nbconvert_exporter": "python",
   "pygments_lexer": "ipython3",
   "version": "3.10.15"
  }
 },
 "nbformat": 4,
 "nbformat_minor": 2
}
