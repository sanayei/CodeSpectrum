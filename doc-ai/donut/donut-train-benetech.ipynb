{
 "cells": [
  {
   "cell_type": "markdown",
   "metadata": {},
   "source": [
    "# End-to-End Image-to-Text Model: Donut (Document Understanding Transformer) 🍩\n",
    "\n",
    "Donut is a combination of a swin encoder and a bart decoder. This means that it can generate text based on an image without needing any OCR. In this notebook, I show how you can use it to train a model for this competition. This is only the starting point, so I'm sure there is much room for improvement. Still, it is so cool that this one model can do everything necessary for this competition!\n",
    "\n",
    "![donut diagram](https://raw.githubusercontent.com/clovaai/donut/master/misc/overview.png)"
   ]
  },
  {
   "cell_type": "code",
   "execution_count": 1,
   "metadata": {
    "trusted": true
   },
   "outputs": [],
   "source": [
    "# You will have to restart the notebook after running this\n",
    "# !pip install -U datasets transformers pyarrow polyleven -q"
   ]
  },
  {
   "cell_type": "code",
   "execution_count": 2,
   "metadata": {
    "execution": {
     "iopub.execute_input": "2023-04-04T22:46:38.476899Z",
     "iopub.status.busy": "2023-04-04T22:46:38.476249Z",
     "iopub.status.idle": "2023-04-04T22:46:55.685666Z",
     "shell.execute_reply": "2023-04-04T22:46:55.684341Z",
     "shell.execute_reply.started": "2023-04-04T22:46:38.476853Z"
    },
    "trusted": true
   },
   "outputs": [
    {
     "name": "stderr",
     "output_type": "stream",
     "text": [
      "/home/amir/miniconda3/envs/doc-ai/lib/python3.10/site-packages/tqdm/auto.py:21: TqdmWarning: IProgress not found. Please update jupyter and ipywidgets. See https://ipywidgets.readthedocs.io/en/stable/user_install.html\n",
      "  from .autonotebook import tqdm as notebook_tqdm\n"
     ]
    }
   ],
   "source": [
    "import os\n",
    "import re\n",
    "import json\n",
    "from collections import Counter\n",
    "from itertools import chain\n",
    "from pathlib import Path\n",
    "from typing import List, Dict, Union, Tuple, Any\n",
    "\n",
    "import matplotlib.pyplot as plt\n",
    "import numpy as np\n",
    "import pandas as pd\n",
    "import torch\n",
    "from PIL import Image\n",
    "from sklearn.model_selection import StratifiedKFold\n",
    "from torch.utils.data import DataLoader\n",
    "from transformers import (\n",
    "    DonutProcessor,\n",
    "    VisionEncoderDecoderConfig,\n",
    "    VisionEncoderDecoderModel,\n",
    "    get_scheduler\n",
    ")\n",
    "from datasets import Dataset\n",
    "from datasets import Image as ds_img\n",
    "from polyleven import levenshtein # a faster version of levenshtein"
   ]
  },
  {
   "cell_type": "code",
   "execution_count": 3,
   "metadata": {
    "execution": {
     "iopub.execute_input": "2023-04-04T22:46:55.694504Z",
     "iopub.status.busy": "2023-04-04T22:46:55.693324Z",
     "iopub.status.idle": "2023-04-04T22:46:56.968337Z",
     "shell.execute_reply": "2023-04-04T22:46:56.967302Z",
     "shell.execute_reply.started": "2023-04-04T22:46:55.69446Z"
    },
    "trusted": true
   },
   "outputs": [],
   "source": [
    "data_dir = Path(\"../../data/benetech-making-graphs-accessible/train\")\n",
    "\n",
    "images_path = data_dir / \"images\"\n",
    "train_json_files = list((data_dir / \"annotations\").glob(\"*.json\"))\n",
    "\n",
    "\n",
    "class CFG:\n",
    "\n",
    "    # General\n",
    "    debug = False\n",
    "    num_proc = 2\n",
    "    num_workers = 2\n",
    "    gpus = 2\n",
    "\n",
    "    # Data\n",
    "    max_length = 1024\n",
    "    image_height = 560\n",
    "    image_width = 560\n",
    "\n",
    "    # Training\n",
    "    epochs = 2\n",
    "    val_check_interval = 1.0  # how many times we want to validate during an epoch\n",
    "    check_val_every_n_epoch = 1\n",
    "    gradient_clip_val = 1.0\n",
    "    lr = 3e-5\n",
    "    lr_scheduler_type = \"cosine\"\n",
    "    num_warmup_steps = 100\n",
    "    seed = 42\n",
    "    warmup_steps = 300  \n",
    "    output_path = \"output\"\n",
    "    log_steps = 200\n",
    "    batch_size = 2\n",
    "    use_wandb = False"
   ]
  },
  {
   "cell_type": "markdown",
   "metadata": {},
   "source": [
    "# First step is to transform the given annotations into a format the model can work with\n",
    "\n",
    "Since the predictions need to be in the form x1;x2;x3 and y1;y2;y3, let's make that the format we will generate. We also need to add special tokens to predict the chart type and separators to distinguish what is what.\n",
    "\n",
    "Remember, Donut takes an image as input and will generate text as output."
   ]
  },
  {
   "cell_type": "code",
   "execution_count": 4,
   "metadata": {
    "execution": {
     "iopub.execute_input": "2023-04-04T22:46:56.970117Z",
     "iopub.status.busy": "2023-04-04T22:46:56.969742Z",
     "iopub.status.idle": "2023-04-04T22:46:56.985687Z",
     "shell.execute_reply": "2023-04-04T22:46:56.984787Z",
     "shell.execute_reply.started": "2023-04-04T22:46:56.970074Z"
    },
    "trusted": true
   },
   "outputs": [],
   "source": [
    "# Let's add chart types as special tokens and a special BOS token\n",
    "\n",
    "PROMPT_TOKEN = \"<|PROMPT|>\"\n",
    "X_START = \"<x_start>\"\n",
    "X_END = \"<x_end>\"\n",
    "Y_START = \"<y_start>\"\n",
    "Y_END = \"<y_end>\"\n",
    "\n",
    "SEPARATOR_TOKENS = [\n",
    "    PROMPT_TOKEN,\n",
    "    X_START,\n",
    "    X_END,\n",
    "    Y_START,\n",
    "    Y_END,\n",
    "]\n",
    "\n",
    "LINE_TOKEN =  \"<line>\" \n",
    "VERTICAL_BAR_TOKEN = \"<vertical_bar>\"\n",
    "HORIZONTAL_BAR_TOKEN = \"<horizontal_bar>\"\n",
    "SCATTER_TOKEN = \"<scatter>\"\n",
    "DOT_TOKEN = \"<dot>\"\n",
    "\n",
    "CHART_TYPE_TOKENS = [\n",
    "    LINE_TOKEN,\n",
    "    VERTICAL_BAR_TOKEN,\n",
    "    HORIZONTAL_BAR_TOKEN,\n",
    "    SCATTER_TOKEN,\n",
    "    DOT_TOKEN,\n",
    "]\n",
    "\n",
    "new_tokens = SEPARATOR_TOKENS + CHART_TYPE_TOKENS\n",
    "\n",
    "def round_float(value: Union[int, float, str]) -> Union[str, float]:\n",
    "    \"\"\"\n",
    "    Convert a float value to a string with the specified number of decimal places. \n",
    "    If there is more than 1 digit in the integer, then we will truncate to 1 decimal.\n",
    "    Otherwise, will truncate to 4 decimals.\n",
    "\n",
    "    Args:\n",
    "        value (int, float, str): The float value to convert\n",
    "\n",
    "    Returns:\n",
    "        str: The rounded float value as a string\n",
    "    \"\"\"\n",
    "    if isinstance(value, float):\n",
    "        value = str(value)\n",
    "\n",
    "        if \".\" in value:\n",
    "            integer, decimal = value.split(\".\")\n",
    "            if abs(float(integer)) > 1:\n",
    "                decimal = decimal[:1]\n",
    "            else:\n",
    "                decimal = decimal[:4]\n",
    "\n",
    "            value = integer + \".\" + decimal\n",
    "    return value\n",
    "\n",
    "\n",
    "def is_nan(value: Union[int, float, str]) -> bool:\n",
    "    \"\"\"\n",
    "    Check if a value is NaN (not a number).\n",
    "\n",
    "    Args:\n",
    "        value (int, float, str): The value to check\n",
    "\n",
    "    Returns:\n",
    "        bool: True if the value is NaN, False otherwise\n",
    "    \"\"\"\n",
    "    return isinstance(value, float) and str(value) == \"nan\"\n",
    "\n",
    "\n",
    "def get_gt_string_and_xy(filepath: Union[str, os.PathLike]) -> Dict[str, str]:\n",
    "    \"\"\"\n",
    "    Get the ground truth string and x-y data from the given JSON file.\n",
    "\n",
    "    Args:\n",
    "        filepath (str): The path to the JSON file\n",
    "\n",
    "    Returns:\n",
    "        dict: A dictionary containing the ground truth string, x-y data, chart type, id, and source\n",
    "    \"\"\"\n",
    "    filepath = Path(filepath)\n",
    "\n",
    "    with open(filepath) as fp:\n",
    "        data = json.load(fp)\n",
    "\n",
    "    data_series = data[\"data-series\"]\n",
    "\n",
    "    all_x, all_y = [], []\n",
    "\n",
    "    for d in data_series:\n",
    "        x = d[\"x\"]\n",
    "        y = d[\"y\"]\n",
    "\n",
    "        x = round_float(x)\n",
    "        y = round_float(y)\n",
    "\n",
    "        # Ignore nan values\n",
    "        if is_nan(x) or is_nan(y):\n",
    "            continue\n",
    "\n",
    "        all_x.append(x)\n",
    "        all_y.append(y)\n",
    "        \n",
    "    \n",
    "    chart_type = f\"<{data['chart-type']}>\"\n",
    "    x_str = X_START + \";\".join(list(map(str, all_x))) + X_END\n",
    "    y_str = Y_START + \";\".join(list(map(str, all_y))) + Y_END\n",
    "    \n",
    "    gt_string = PROMPT_TOKEN + chart_type + x_str + y_str\n",
    "\n",
    "    return {\n",
    "        \"ground_truth\": gt_string,\n",
    "        \"x\": json.dumps(all_x),\n",
    "        \"y\": json.dumps(all_y),\n",
    "        \"chart-type\": data[\"chart-type\"],\n",
    "        \"id\": filepath.stem,\n",
    "        \"source\": data[\"source\"],\n",
    "    }"
   ]
  },
  {
   "cell_type": "code",
   "execution_count": 5,
   "metadata": {
    "execution": {
     "iopub.execute_input": "2023-04-04T22:46:56.990513Z",
     "iopub.status.busy": "2023-04-04T22:46:56.99018Z",
     "iopub.status.idle": "2023-04-04T22:46:57.01336Z",
     "shell.execute_reply": "2023-04-04T22:46:57.012419Z",
     "shell.execute_reply.started": "2023-04-04T22:46:56.990485Z"
    },
    "trusted": true
   },
   "outputs": [
    {
     "data": {
      "text/plain": [
       "{'ground_truth': '<|PROMPT|><line><x_start>0;2;4;6;8;10;12<x_end><y_start>45.8;45.9;46.3;46.1;46.1;47.0;47.4<y_end>',\n",
       " 'x': '[\"0\", \"2\", \"4\", \"6\", \"8\", \"10\", \"12\"]',\n",
       " 'y': '[\"45.8\", \"45.9\", \"46.3\", \"46.1\", \"46.1\", \"47.0\", \"47.4\"]',\n",
       " 'chart-type': 'line',\n",
       " 'id': '000d269c8e26',\n",
       " 'source': 'generated'}"
      ]
     },
     "execution_count": 5,
     "metadata": {},
     "output_type": "execute_result"
    }
   ],
   "source": [
    "get_gt_string_and_xy(data_dir / \"annotations\" / \"000d269c8e26.json\")"
   ]
  },
  {
   "cell_type": "markdown",
   "metadata": {},
   "source": [
    "# Creating the dataset"
   ]
  },
  {
   "cell_type": "code",
   "execution_count": 6,
   "metadata": {
    "execution": {
     "iopub.execute_input": "2023-04-04T22:46:57.015319Z",
     "iopub.status.busy": "2023-04-04T22:46:57.014789Z",
     "iopub.status.idle": "2023-04-04T22:51:11.315366Z",
     "shell.execute_reply": "2023-04-04T22:51:11.314083Z",
     "shell.execute_reply.started": "2023-04-04T22:46:57.015282Z"
    },
    "trusted": true
   },
   "outputs": [],
   "source": [
    "# This generator function will be used to create the Dataset object\n",
    "\n",
    "\n",
    "def gen_data(files: List[Union[str, os.PathLike]]) -> Dict[str, str]:\n",
    "    \"\"\"\n",
    "    This function takes a list of json files and returns a generator that yields a\n",
    "    dictionary with the ground truth string and the path to the image.\n",
    "\n",
    "    Args:\n",
    "        files (list): A list of json files\n",
    "\n",
    "    Returns:\n",
    "        generator: A generator that yields a dictionary with the ground truth string and\n",
    "            the path to the corresponding image.\n",
    "    \"\"\"\n",
    "\n",
    "    for f in files:\n",
    "\n",
    "        yield {\n",
    "            **get_gt_string_and_xy(f),\n",
    "            \"image_path\": str(images_path / f\"{f.stem}.jpg\"),\n",
    "        }\n",
    "\n",
    "\n",
    "ds = Dataset.from_generator(\n",
    "    gen_data, gen_kwargs={\"files\": train_json_files}, num_proc=CFG.num_proc\n",
    ")"
   ]
  },
  {
   "cell_type": "markdown",
   "metadata": {},
   "source": [
    "# Checking image sizes"
   ]
  },
  {
   "cell_type": "code",
   "execution_count": 7,
   "metadata": {
    "execution": {
     "iopub.execute_input": "2023-04-04T22:51:11.318705Z",
     "iopub.status.busy": "2023-04-04T22:51:11.317092Z",
     "iopub.status.idle": "2023-04-04T22:55:14.854321Z",
     "shell.execute_reply": "2023-04-04T22:55:14.853252Z",
     "shell.execute_reply.started": "2023-04-04T22:51:11.318635Z"
    },
    "trusted": true
   },
   "outputs": [],
   "source": [
    "def add_image_sizes(examples: Dict[str, Union[str, os.PathLike]]) -> Dict[str, List[int]]:\n",
    "    \"\"\"\n",
    "    This function takes a dictionary of examples and adds the width and height of the\n",
    "    image to the dictionary. This is to be used with the `Dataset.map` function.\n",
    "\n",
    "    Args:\n",
    "        examples (dict): A dictionary of examples (from `map` function)\n",
    "\n",
    "    Returns:\n",
    "        dict: The dictionary with the width and height of the image added\n",
    "    \"\"\"\n",
    "\n",
    "    sizes = [Image.open(x).size for x in examples[\"image_path\"]]\n",
    "\n",
    "    width, height = list(zip(*sizes))\n",
    "\n",
    "    return {\n",
    "        \"width\": list(width),\n",
    "        \"height\": list(height),\n",
    "    }\n",
    "\n",
    "\n",
    "ds = ds.map(add_image_sizes, batched=True, num_proc=CFG.num_proc)"
   ]
  },
  {
   "cell_type": "code",
   "execution_count": 8,
   "metadata": {
    "execution": {
     "iopub.execute_input": "2023-04-04T22:55:14.856759Z",
     "iopub.status.busy": "2023-04-04T22:55:14.856375Z",
     "iopub.status.idle": "2023-04-04T22:55:15.751319Z",
     "shell.execute_reply": "2023-04-04T22:55:15.7503Z",
     "shell.execute_reply.started": "2023-04-04T22:55:14.856718Z"
    },
    "trusted": true
   },
   "outputs": [
    {
     "data": {
      "image/png": "[encoded data removed]",
      "text/plain": [
       "<Figure size 1000x1000 with 1 Axes>"
      ]
     },
     "metadata": {},
     "output_type": "display_data"
    }
   ],
   "source": [
    "# Most fall within 560 x 560\n",
    "plt.figure(figsize=(10, 10))\n",
    "\n",
    "plt.scatter(x=ds[\"width\"], y=ds[\"height\"], marker=\"o\", alpha=0.5)\n",
    "\n",
    "# Add axis labels\n",
    "plt.xlabel(\"Width\")\n",
    "plt.ylabel(\"Height\")\n",
    "\n",
    "# Add a title\n",
    "plt.title(\"Image Dimensions\")\n",
    "\n",
    "# Add gridlines\n",
    "plt.grid(True)\n",
    "\n",
    "# Set aspect ratio to be equal\n",
    "plt.gca().set_aspect(\"equal\", adjustable=\"box\")\n",
    "\n",
    "# Show the plot\n",
    "plt.show()"
   ]
  },
  {
   "cell_type": "markdown",
   "metadata": {},
   "source": [
    "# Model configuration\n",
    "\n",
    "Need to set:  \n",
    "\n",
    "- image height\n",
    "- image width\n",
    "- max sequence length to generate"
   ]
  },
  {
   "cell_type": "code",
   "execution_count": 9,
   "metadata": {
    "execution": {
     "iopub.execute_input": "2023-04-04T22:55:15.75396Z",
     "iopub.status.busy": "2023-04-04T22:55:15.752832Z",
     "iopub.status.idle": "2023-04-04T22:55:16.08884Z",
     "shell.execute_reply": "2023-04-04T22:55:16.08778Z",
     "shell.execute_reply.started": "2023-04-04T22:55:15.753918Z"
    },
    "trusted": true
   },
   "outputs": [
    {
     "name": "stdout",
     "output_type": "stream",
     "text": [
      "560 560 1024\n"
     ]
    }
   ],
   "source": [
    "config = VisionEncoderDecoderConfig.from_pretrained(\"naver-clova-ix/donut-base\")\n",
    "config.encoder.image_size = (CFG.image_height, CFG.image_width)\n",
    "config.decoder.max_length = CFG.max_length\n",
    "\n",
    "print(CFG.image_height, CFG.image_width, CFG.max_length)"
   ]
  },
  {
   "cell_type": "markdown",
   "metadata": {},
   "source": [
    "# Checking tokenizer for unknowns\n"
   ]
  },
  {
   "cell_type": "code",
   "execution_count": 10,
   "metadata": {
    "execution": {
     "iopub.execute_input": "2023-04-04T22:55:16.091247Z",
     "iopub.status.busy": "2023-04-04T22:55:16.090542Z",
     "iopub.status.idle": "2023-04-04T22:55:18.921236Z",
     "shell.execute_reply": "2023-04-04T22:55:18.920175Z",
     "shell.execute_reply.started": "2023-04-04T22:55:16.091207Z"
    },
    "trusted": true
   },
   "outputs": [],
   "source": [
    "processor = DonutProcessor.from_pretrained(\"naver-clova-ix/donut-base\")\n",
    "processor.image_processor.size = {\n",
    "    \"height\": CFG.image_height,\n",
    "    \"width\": CFG.image_width,\n",
    "}"
   ]
  },
  {
   "cell_type": "code",
   "execution_count": 11,
   "metadata": {
    "execution": {
     "iopub.execute_input": "2023-04-04T22:55:18.922911Z",
     "iopub.status.busy": "2023-04-04T22:55:18.922536Z",
     "iopub.status.idle": "2023-04-04T22:55:48.094523Z",
     "shell.execute_reply": "2023-04-04T22:55:48.093411Z",
     "shell.execute_reply.started": "2023-04-04T22:55:18.922874Z"
    },
    "trusted": true
   },
   "outputs": [],
   "source": [
    "def check_for_unk(examples: Dict[str, str]) -> Dict[str, List[str]]:\n",
    "    \"\"\"\n",
    "    Check for unknown tokens in the given examples.\n",
    "\n",
    "    This function takes a dictionary containing a list of ground truth texts and\n",
    "    tokenizes them using the processor's tokenizer. It then checks for any unknown\n",
    "    tokens in the tokenized text and returns a dictionary containing a list of the\n",
    "    unknown tokens for each example.\n",
    "\n",
    "    Args:\n",
    "        examples (dict): A dictionary containing a list of ground truth texts. \n",
    "            Example: {\"ground_truth\": [\"text1\", \"text2\", ...]}\n",
    "\n",
    "    Returns:\n",
    "        dict: A dictionary containing a list of unknown tokens for each example. \n",
    "            Example: {\"unk_tokens\": [[\"unk1\", \"unk2\"], [], [\"unk3\"], ...]}\n",
    "    \"\"\"\n",
    "\n",
    "    texts = examples[\"ground_truth\"]\n",
    "\n",
    "    ids = processor.tokenizer(texts).input_ids\n",
    "    tokens = [processor.tokenizer.tokenize(x, add_special_tokens=True) for x in texts]\n",
    "\n",
    "    unk_tokens = []\n",
    "    for example_ids, example_tokens in zip(ids, tokens):\n",
    "        example_unk_tokens = []\n",
    "        for i in range(len(example_ids)):\n",
    "            if example_ids[i] == processor.tokenizer.unk_token_id:\n",
    "                example_unk_tokens.append(example_tokens[i])\n",
    "\n",
    "        unk_tokens.append(example_unk_tokens)\n",
    "\n",
    "    return {\"unk_tokens\": unk_tokens}\n",
    "\n",
    "\n",
    "unk = ds.map(check_for_unk, batched=True, num_proc=CFG.num_proc)"
   ]
  },
  {
   "cell_type": "code",
   "execution_count": 12,
   "metadata": {
    "execution": {
     "iopub.execute_input": "2023-04-04T22:55:48.096987Z",
     "iopub.status.busy": "2023-04-04T22:55:48.09627Z",
     "iopub.status.idle": "2023-04-04T22:55:49.379855Z",
     "shell.execute_reply": "2023-04-04T22:55:49.378563Z",
     "shell.execute_reply.started": "2023-04-04T22:55:48.096953Z"
    },
    "trusted": true
   },
   "outputs": [
    {
     "name": "stdout",
     "output_type": "stream",
     "text": [
      "37712\n"
     ]
    },
    {
     "data": {
      "text/plain": [
       "{'ground_truth': '<|PROMPT|><line><x_start>Herkimer;Jefferson;Madison;Monroe;New York;Niagara;Oneida;Onondaga;Orange;Oswego;Putnam;Queens;Rensselaer;Richmond;Saratoga<x_end><y_start>9.8;12.1;10.0;10.0;11.1;11.2;10.1;11.1;10.2;13.0;10.4;14.8;12.3;14.7;10.7<y_end>',\n",
       " 'x': '[\"Herkimer\", \"Jefferson\", \"Madison\", \"Monroe\", \"New York\", \"Niagara\", \"Oneida\", \"Onondaga\", \"Orange\", \"Oswego\", \"Putnam\", \"Queens\", \"Rensselaer\", \"Richmond\", \"Saratoga\"]',\n",
       " 'y': '[\"9.8\", \"12.1\", \"10.0\", \"10.0\", \"11.1\", \"11.2\", \"10.1\", \"11.1\", \"10.2\", \"13.0\", \"10.4\", \"14.8\", \"12.3\", \"14.7\", \"10.7\"]',\n",
       " 'chart-type': 'line',\n",
       " 'id': '0f28aa27d064',\n",
       " 'source': 'generated',\n",
       " 'image_path': '../../data/benetech-making-graphs-accessible/train/images/0f28aa27d064.jpg',\n",
       " 'width': 487,\n",
       " 'height': 332,\n",
       " 'unk_tokens': ['1', '1', '1', '1']}"
      ]
     },
     "execution_count": 12,
     "metadata": {},
     "output_type": "execute_result"
    }
   ],
   "source": [
    "# Let's look at only the examples with unknown tokens\n",
    "unk = unk.filter(lambda x: len(x[\"unk_tokens\"]) > 0, num_proc=CFG.num_proc)\n",
    "\n",
    "print(len(unk))\n",
    "\n",
    "unk[0]"
   ]
  },
  {
   "cell_type": "code",
   "execution_count": 13,
   "metadata": {
    "execution": {
     "iopub.execute_input": "2023-04-04T22:55:49.382596Z",
     "iopub.status.busy": "2023-04-04T22:55:49.381907Z",
     "iopub.status.idle": "2023-04-04T22:55:49.692224Z",
     "shell.execute_reply": "2023-04-04T22:55:49.691044Z",
     "shell.execute_reply.started": "2023-04-04T22:55:49.382554Z"
    },
    "trusted": true
   },
   "outputs": [
    {
     "data": {
      "text/plain": [
       "Counter({'1': 80183, 'ދ': 1})"
      ]
     },
     "execution_count": 13,
     "metadata": {},
     "output_type": "execute_result"
    }
   ],
   "source": [
    "# Let's count which tokens show up most often as unknowns\n",
    "all_unk_tokens = [x for y in unk[\"unk_tokens\"] for x in y]\n",
    "\n",
    "Counter(all_unk_tokens)"
   ]
  },
  {
   "cell_type": "markdown",
   "metadata": {},
   "source": [
    "It seems that the donut tokenizer doesn't contain \"1\" which will result in many unknown tokens in the ground truth string. There is \"_1\" (space in front of 1) and \"01\", \"11\", \"21\", \"31\", \"41\" etc. But if there is a \"0.1\" or \">1\" then the 1 will turn into an unknown token.\n",
    "\n",
    "I'll handle this in the `preprocess` function."
   ]
  },
  {
   "cell_type": "code",
   "execution_count": 14,
   "metadata": {
    "execution": {
     "iopub.execute_input": "2023-04-04T22:55:49.697842Z",
     "iopub.status.busy": "2023-04-04T22:55:49.697541Z",
     "iopub.status.idle": "2023-04-04T22:55:49.707358Z",
     "shell.execute_reply": "2023-04-04T22:55:49.706113Z",
     "shell.execute_reply.started": "2023-04-04T22:55:49.697814Z"
    },
    "trusted": true
   },
   "outputs": [
    {
     "name": "stdout",
     "output_type": "stream",
     "text": [
      "ids: [0, 50891, 39539, 3, 1314, 4314, 2]\n",
      "tokenized: ['▁0', '.', '1', '▁1', '▁1990']\n",
      "decoded: <s> 0.<unk> 1 1990</s>\n",
      "unk id: 3\n",
      "11 tokens added\n"
     ]
    }
   ],
   "source": [
    "example_str = \"0.1 1 1990\"\n",
    "\n",
    "temp_ids = processor.tokenizer(example_str).input_ids\n",
    "print(\"ids:\", temp_ids)\n",
    "print(\"tokenized:\", processor.tokenizer.tokenize(example_str))\n",
    "print(\"decoded:\", processor.tokenizer.decode(temp_ids))\n",
    "print(\"unk id:\", processor.tokenizer.unk_token_id)\n",
    "\n",
    "# Adding these tokens should mean that there should be very few unknown tokens\n",
    "num_added = processor.tokenizer.add_tokens([\"<one>\"] + new_tokens)\n",
    "print(num_added, \"tokens added\")\n",
    "\n",
    "config.pad_token_id = processor.tokenizer.pad_token_id\n",
    "config.decoder_start_token_id = processor.tokenizer.convert_tokens_to_ids([PROMPT_TOKEN])[0]"
   ]
  },
  {
   "cell_type": "markdown",
   "metadata": {},
   "source": [
    "# Preprocessing function to get pixel values and input_ids\n",
    "\n",
    "When ever the `_getitem__` function is called for the dataset, it will run this function."
   ]
  },
  {
   "cell_type": "code",
   "execution_count": 15,
   "metadata": {
    "execution": {
     "iopub.execute_input": "2023-04-04T22:55:49.709656Z",
     "iopub.status.busy": "2023-04-04T22:55:49.709219Z",
     "iopub.status.idle": "2023-04-04T22:55:49.77207Z",
     "shell.execute_reply": "2023-04-04T22:55:49.77113Z",
     "shell.execute_reply.started": "2023-04-04T22:55:49.709618Z"
    },
    "trusted": true
   },
   "outputs": [],
   "source": [
    "from functools import partial\n",
    "\n",
    "one_token_id = processor.tokenizer(\"<one>\", add_special_tokens=False).input_ids[0]\n",
    "unk_token_id = processor.tokenizer.unk_token_id\n",
    "\n",
    "\n",
    "def replace_unk_tokens_with_one(example_ids: List[int], example_tokens: List[str], one_token_id:int, unk_token_id:int) -> List[int]:\n",
    "    \"\"\"\n",
    "    Replace unknown tokens that represent \"1\" with the correct token id.\n",
    "\n",
    "    Args:\n",
    "        example_ids (list): List of token ids for a given example\n",
    "        example_tokens (list): List of tokens for the same given example\n",
    "        one_token_id (int): Token id for the \"<one>\" token\n",
    "        unk_token_id (int): Token id for the unknown token\n",
    "\n",
    "    Returns:\n",
    "        list: The updated list of token ids with the correct token id for \"1\"\n",
    "    \"\"\"\n",
    "    \n",
    "    temp_ids = []\n",
    "    for id_, token in zip(example_ids, example_tokens):\n",
    "        if id_ == unk_token_id and token == \"1\":\n",
    "            id_ = one_token_id\n",
    "        temp_ids.append(id_)\n",
    "    return temp_ids\n",
    "\n",
    "\n",
    "def preprocess(examples: Dict[str, str], processor: DonutProcessor, CFG: CFG) -> Dict[str, Union[torch.Tensor, List[int], List[str]]]:\n",
    "    \"\"\"\n",
    "    Preprocess the given examples.\n",
    "\n",
    "    This function processes the input examples by tokenizing the texts, replacing\n",
    "    any unknown tokens that represent \"1\" with the correct token id, and loading\n",
    "    the images.\n",
    "\n",
    "    Args:\n",
    "        examples (dict): A dictionary containing ground truth texts, image paths, and ids\n",
    "        processor: An object responsible for tokenizing texts and processing images\n",
    "        CFG: A configuration object containing settings and hyperparameters\n",
    "\n",
    "    Returns:\n",
    "        dict: A dictionary containing preprocessed images, token ids, and ids\n",
    "    \"\"\"\n",
    "    \n",
    "    pixel_values = []\n",
    "\n",
    "    texts = examples[\"ground_truth\"]\n",
    "\n",
    "    ids = processor.tokenizer(\n",
    "        texts,\n",
    "        add_special_tokens=False,\n",
    "        max_length=CFG.max_length,\n",
    "        padding=True,\n",
    "        truncation=True,\n",
    "    ).input_ids\n",
    "\n",
    "    if isinstance(texts, str):\n",
    "        texts = [texts]\n",
    "\n",
    "    tokens = [processor.tokenizer.tokenize(text, add_special_tokens=False) for text in texts]\n",
    "    \n",
    "    one_token_id = processor.tokenizer(\"<one>\", add_special_tokens=False).input_ids[0]\n",
    "    unk_token_id = processor.tokenizer.unk_token_id\n",
    "    \n",
    "    final_ids = [\n",
    "        replace_unk_tokens_with_one(example_ids, example_tokens, one_token_id, unk_token_id)\n",
    "        for example_ids, example_tokens in zip(ids, tokens)\n",
    "    ]\n",
    "\n",
    "    for sample in examples[\"image_path\"]:\n",
    "        pixel_values.append(processor(sample, random_padding=True).pixel_values)\n",
    "\n",
    "    return {\n",
    "        \"pixel_values\": torch.tensor(np.vstack(pixel_values)),\n",
    "        \"input_ids\": final_ids,\n",
    "        \"id\": examples[\"id\"],\n",
    "    }\n",
    "\n",
    "\n",
    "image_ds = ds.cast_column(\"image_path\", ds_img())\n",
    "image_ds.set_transform(partial(preprocess, processor=processor, CFG=CFG))"
   ]
  },
  {
   "cell_type": "code",
   "execution_count": 16,
   "metadata": {
    "execution": {
     "iopub.execute_input": "2023-04-04T22:55:49.773788Z",
     "iopub.status.busy": "2023-04-04T22:55:49.773462Z",
     "iopub.status.idle": "2023-04-04T22:55:49.996673Z",
     "shell.execute_reply": "2023-04-04T22:55:49.995112Z",
     "shell.execute_reply.started": "2023-04-04T22:55:49.773753Z"
    },
    "trusted": true
   },
   "outputs": [
    {
     "name": "stdout",
     "output_type": "stream",
     "text": [
      "torch.Size([3, 3, 560, 560])\n",
      "<|PROMPT|><vertical_bar><x_start> 2;3;5;6;8;9;10;12;13;14;15;16;17;18;19<x_end><y_start> 11.1;20.2;15.<one>;13.0;13.0;21.1;17.<one>;17.<one>;19.2;17.<one>;16.<one>;<one>2.1;18.0;<one>2.1;23.1<y_end>\n",
      "89\n",
      "['<|PROMPT|>', '<vertical_bar>', '<x_start>', '▁2', ';', '3', ';', '5', ';', '6', ';', '8', ';', '9', ';', '10', ';', '12', ';', '13', ';', '14', ';', '15', ';', '16', ';', '17', ';', '18', ';', '19', '<x_end>', '<y_start>', '▁1', '1.1', ';', '20', '.', '2', ';', '15', '.', '<one>', ';', '13', '.', '0', ';', '13', '.', '0', ';', '2', '1.1', ';', '17', '.', '<one>', ';', '17', '.', '<one>', ';', '19', '.', '2', ';', '17', '.', '<one>', ';', '16', '.', '<one>', ';', '<one>', '2.1', ';', '18', '.', '0', ';', '<one>', '2.1', ';', '2', '3.1', '<y_end>']\n"
     ]
    }
   ],
   "source": [
    "sample = image_ds[[0, 1, 2]]\n",
    "\n",
    "print(sample[\"pixel_values\"].shape)\n",
    "print(processor.decode(sample[\"input_ids\"][2]))\n",
    "print(len(sample[\"input_ids\"][2]))\n",
    "print(processor.tokenizer.convert_ids_to_tokens(sample[\"input_ids\"][2]))"
   ]
  },
  {
   "cell_type": "markdown",
   "metadata": {},
   "source": [
    "# Creating splits\n",
    "\n",
    "\n",
    "Basic split: break extracted into folds, all generated and some extracted into train. Only extracted in validation."
   ]
  },
  {
   "cell_type": "code",
   "execution_count": 17,
   "metadata": {
    "execution": {
     "iopub.execute_input": "2023-04-04T22:55:49.998821Z",
     "iopub.status.busy": "2023-04-04T22:55:49.99813Z",
     "iopub.status.idle": "2023-04-04T22:55:52.154257Z",
     "shell.execute_reply": "2023-04-04T22:55:52.152932Z",
     "shell.execute_reply.started": "2023-04-04T22:55:49.998774Z"
    },
    "trusted": true
   },
   "outputs": [
    {
     "name": "stdout",
     "output_type": "stream",
     "text": [
      "Counter({'vertical_bar': 457, 'line': 423, 'scatter': 165, 'horizontal_bar': 73})\n",
      "Counter({'vertical_bar': 114, 'line': 105, 'scatter': 42, 'horizontal_bar': 19})\n",
      "Counter({'vertical_bar': 115, 'line': 106, 'scatter': 41, 'horizontal_bar': 18})\n",
      "Counter({'vertical_bar': 114, 'line': 106, 'scatter': 41, 'horizontal_bar': 18})\n",
      "Counter({'vertical_bar': 114, 'line': 106, 'scatter': 41, 'horizontal_bar': 18})\n"
     ]
    }
   ],
   "source": [
    "# separate by extracted and generated\n",
    "\n",
    "extracted_ds = ds.filter(lambda x: x[\"source\"] == \"extracted\", num_proc=CFG.num_proc)\n",
    "generated_ds = ds.filter(lambda x: x[\"source\"] == \"generated\", num_proc=CFG.num_proc)\n",
    "\n",
    "chart_types = extracted_ds[\"chart-type\"]\n",
    "\n",
    "print(Counter(chart_types))\n",
    "\n",
    "skf = StratifiedKFold(n_splits=4)\n",
    "\n",
    "fold_idxs = []\n",
    "\n",
    "for _, val_idxs in skf.split(chart_types, y=chart_types):\n",
    "    fold_idxs.append(val_idxs)\n",
    "\n",
    "\n",
    "for n, idxs in enumerate(fold_idxs):\n",
    "    print(Counter([chart_types[i] for i in idxs]))\n",
    "    if n > 3:\n",
    "        break"
   ]
  },
  {
   "cell_type": "code",
   "execution_count": 18,
   "metadata": {
    "execution": {
     "iopub.execute_input": "2023-04-04T22:55:52.156323Z",
     "iopub.status.busy": "2023-04-04T22:55:52.156038Z",
     "iopub.status.idle": "2023-04-04T22:55:52.371442Z",
     "shell.execute_reply": "2023-04-04T22:55:52.370217Z",
     "shell.execute_reply.started": "2023-04-04T22:55:52.156294Z"
    },
    "trusted": true
   },
   "outputs": [
    {
     "name": "stdout",
     "output_type": "stream",
     "text": [
      "scatter\n",
      "[15, 260, 382, 526, 608, 2801]\n",
      "[74, 81, 68, 61, 71, 58]\n",
      "32ae225ae9ca\n",
      "Counter({'vertical_bar': 114, 'line': 105, 'scatter': 42, 'horizontal_bar': 19})\n"
     ]
    }
   ],
   "source": [
    "# Combine generated and some of the extracted examples into the train set\n",
    "\n",
    "from datasets import concatenate_datasets\n",
    "\n",
    "fold = 0\n",
    "\n",
    "train_extracted = extracted_ds.select(\n",
    "    list(chain(*[x for i, x in enumerate(fold_idxs) if i != fold]))\n",
    ")\n",
    "train_ds = concatenate_datasets([train_extracted, generated_ds])\n",
    "train_ds = train_ds.cast_column(\"image_path\", ds_img())\n",
    "train_ds.set_transform(partial(preprocess, processor=processor, CFG=CFG))\n",
    "\n",
    "# Creat validation set from only extracted examples\n",
    "\n",
    "val_gt_ds = extracted_ds.select(fold_idxs[fold])\n",
    "val_ds = val_gt_ds.cast_column(\"image_path\", ds_img())\n",
    "val_ds.set_transform(partial(preprocess, processor=processor, CFG=CFG))\n",
    "\n",
    "gt_chart_type = val_gt_ds[\"chart-type\"]\n",
    "gt_x = [json.loads(_) for _ in val_gt_ds[\"x\"]]\n",
    "gt_y = [json.loads(_) for _ in val_gt_ds[\"y\"]]\n",
    "gt_ids = val_gt_ds[\"id\"]\n",
    "\n",
    "i = 0\n",
    "print(gt_chart_type[i])\n",
    "print(gt_x[i])\n",
    "print(gt_y[i])\n",
    "print(gt_ids[i])\n",
    "print(Counter(gt_chart_type))"
   ]
  },
  {
   "cell_type": "markdown",
   "metadata": {},
   "source": [
    "# Collate function to make sure the ids are all the same length in a batch"
   ]
  },
  {
   "cell_type": "code",
   "execution_count": 19,
   "metadata": {
    "execution": {
     "iopub.execute_input": "2023-04-04T22:55:52.37353Z",
     "iopub.status.busy": "2023-04-04T22:55:52.373137Z",
     "iopub.status.idle": "2023-04-04T22:55:52.382791Z",
     "shell.execute_reply": "2023-04-04T22:55:52.381613Z",
     "shell.execute_reply.started": "2023-04-04T22:55:52.373492Z"
    },
    "trusted": true
   },
   "outputs": [],
   "source": [
    "pad_token_id = processor.tokenizer.pad_token_id\n",
    "\n",
    "\n",
    "def collate_fn(samples: List[Dict[str, Union[torch.Tensor, List[int], str]]]) -> Dict[str, Union[torch.Tensor, List[str]]]:\n",
    "    \"\"\"\n",
    "    Custom collate function for DataLoader.\n",
    "\n",
    "    This function takes a list of samples and combines them into a batch with\n",
    "    properly padded input_ids.\n",
    "\n",
    "    Args:\n",
    "        samples (List[Dict[str, Union[torch.Tensor, List[int], str]]]): \n",
    "            A list of samples, where each sample is a dictionary containing\n",
    "            \"pixel_values\" (torch.Tensor), \"input_ids\" (List[int]), and \"id\" (str).\n",
    "\n",
    "    Returns:\n",
    "        Dict[str, Union[torch.Tensor, List[str]]]: \n",
    "            A dictionary containing the combined pixel values, padded input_ids, and ids.\n",
    "    \"\"\"\n",
    "\n",
    "    batch = {}\n",
    "\n",
    "    batch[\"pixel_values\"] = torch.stack([x[\"pixel_values\"] for x in samples])\n",
    "\n",
    "    max_length = max([len(x[\"input_ids\"]) for x in samples])\n",
    "\n",
    "    # Make a multiple of 8 to efficiently use the tensor cores\n",
    "    if max_length % 8 != 0:\n",
    "        max_length = (max_length // 8 + 1) * 8\n",
    "\n",
    "    input_ids = [\n",
    "        x[\"input_ids\"] + [pad_token_id] * (max_length - len(x[\"input_ids\"]))\n",
    "        for x in samples\n",
    "    ]\n",
    "\n",
    "    labels = torch.tensor(input_ids)\n",
    "    labels[labels == pad_token_id] = -100 # ignore loss on padding tokens\n",
    "    batch[\"labels\"] = labels\n",
    "    \n",
    "    batch[\"id\"] = [x[\"id\"] for x in samples]\n",
    "\n",
    "    return batch\n"
   ]
  },
  {
   "cell_type": "markdown",
   "metadata": {},
   "source": [
    "# Dataloaders\n",
    "\n",
    "Validation uses generation so it is very slow. That's why I only use a small fraction of the examples."
   ]
  },
  {
   "cell_type": "code",
   "execution_count": 20,
   "metadata": {
    "execution": {
     "iopub.execute_input": "2023-04-04T22:55:52.385571Z",
     "iopub.status.busy": "2023-04-04T22:55:52.384731Z",
     "iopub.status.idle": "2023-04-04T22:55:52.893685Z",
     "shell.execute_reply": "2023-04-04T22:55:52.892533Z",
     "shell.execute_reply.started": "2023-04-04T22:55:52.385525Z"
    },
    "trusted": true
   },
   "outputs": [
    {
     "data": {
      "text/plain": [
       "(dict_keys(['pixel_values', 'labels', 'id']),\n",
       " [('pixel_values', torch.Size([2, 3, 560, 560])),\n",
       "  ('labels', torch.Size([2, 120]))])"
      ]
     },
     "execution_count": 20,
     "metadata": {},
     "output_type": "execute_result"
    }
   ],
   "source": [
    "if CFG.debug:\n",
    "    train_ds = train_ds.select(range(100))\n",
    "    val_ds = val_ds.select(range(100))\n",
    "\n",
    "train_dataloader = DataLoader(\n",
    "    train_ds,\n",
    "    batch_size=CFG.batch_size,\n",
    "    shuffle=True,\n",
    "    collate_fn=collate_fn,\n",
    "    num_workers=CFG.num_workers,\n",
    ")\n",
    "val_dataloader = DataLoader(\n",
    "    val_ds,\n",
    "    batch_size=CFG.batch_size,\n",
    "    shuffle=False,\n",
    "    collate_fn=collate_fn,\n",
    "    num_workers=CFG.num_workers,\n",
    ")\n",
    "\n",
    "num_training_steps = len(train_dataloader) * CFG.epochs // CFG.gpus\n",
    "\n",
    "batch = next(iter(train_dataloader))\n",
    "\n",
    "batch.keys(), [(k, v.shape) for k, v in batch.items() if k != \"id\"]"
   ]
  },
  {
   "cell_type": "markdown",
   "metadata": {},
   "source": [
    "# Functions to calculate metrics"
   ]
  },
  {
   "cell_type": "code",
   "execution_count": 21,
   "metadata": {
    "execution": {
     "iopub.execute_input": "2023-04-04T22:55:52.896307Z",
     "iopub.status.busy": "2023-04-04T22:55:52.89568Z",
     "iopub.status.idle": "2023-04-04T22:55:52.921083Z",
     "shell.execute_reply": "2023-04-04T22:55:52.920105Z",
     "shell.execute_reply.started": "2023-04-04T22:55:52.896265Z"
    },
    "jupyter": {
     "source_hidden": true
    },
    "trusted": true
   },
   "outputs": [],
   "source": [
    "def rmse(y_true: List[float], y_pred: List[float]) -> float:\n",
    "    \"\"\"\n",
    "    Calculate the Root Mean Square Error (RMSE) between the true and predicted values.\n",
    "\n",
    "    Args:\n",
    "        y_true (List[float]): The true values.\n",
    "        y_pred (List[float]): The predicted values.\n",
    "\n",
    "    Returns:\n",
    "        float: The Root Mean Square Error.\n",
    "    \"\"\"\n",
    "    return np.sqrt(np.mean(np.square(np.subtract(y_true, y_pred))))\n",
    "\n",
    "\n",
    "def sigmoid(x: float) -> float:\n",
    "    \"\"\"\n",
    "    Calculate the sigmoid function for the given value.\n",
    "\n",
    "    Args:\n",
    "        x (float): The input value.\n",
    "\n",
    "    Returns:\n",
    "        float: The result of the sigmoid function.\n",
    "    \"\"\"\n",
    "    return 2 - 2 / (1 + np.exp(-x))\n",
    "\n",
    "\n",
    "def normalized_rmse(y_true: List[float], y_pred: List[float]) -> float:\n",
    "    \"\"\"\n",
    "    Calculate the normalized Root Mean Square Error (RMSE) between the true and predicted values.\n",
    "\n",
    "    Args:\n",
    "        y_true (List[float]): The true values.\n",
    "        y_pred (List[float]): The predicted values.\n",
    "\n",
    "    Returns:\n",
    "        float: The normalized Root Mean Square Error.\n",
    "    \"\"\"\n",
    "    numerator = rmse(y_true, y_pred)\n",
    "    denominator = rmse(y_true, np.mean(y_true))\n",
    "\n",
    "    # https://www.kaggle.com/competitions/benetech-making-graphs-accessible/discussion/396947\n",
    "    if denominator == 0:\n",
    "        if numerator == 0:\n",
    "            return 1.0\n",
    "        return 0.0\n",
    "\n",
    "    return sigmoid(numerator / denominator)\n",
    "\n",
    "\n",
    "def normalized_levenshtein_score(y_true: List[str], y_pred: List[str]) -> float:\n",
    "    \"\"\"\n",
    "    Calculate the normalized Levenshtein distance between two lists of strings.\n",
    "\n",
    "    Args:\n",
    "        y_true (List[str]): The true values.\n",
    "        y_pred (List[str]): The predicted values.\n",
    "\n",
    "    Returns:\n",
    "        float: The normalized Levenshtein distance.\n",
    "    \"\"\"\n",
    "    total_distance = np.sum([levenshtein(yt, yp) for yt, yp in zip(y_true, y_pred)])\n",
    "    length_sum = np.sum([len(yt) for yt in y_true])\n",
    "    return sigmoid(total_distance / length_sum)\n",
    "\n",
    "\n",
    "def score_series(\n",
    "    y_true: List[Union[float, str]], y_pred: List[Union[float, str]]\n",
    ") -> float:\n",
    "    \"\"\"\n",
    "    Calculate the score for a series of true and predicted values.\n",
    "\n",
    "    Args:\n",
    "        y_true (List[Union[float, str]]): The true values.\n",
    "        y_pred (List[Union[float, str]]): The predicted values.\n",
    "\n",
    "    Returns:\n",
    "        float: The score for the series.\n",
    "    \"\"\"\n",
    "    if len(y_true) != len(y_pred):\n",
    "        return 0.0\n",
    "    if isinstance(y_true[0], str):\n",
    "        return normalized_levenshtein_score(y_true, y_pred)\n",
    "    else:\n",
    "        # Since this is a generative model, there is a chance it doesn't produce a float.\n",
    "        # In that case, we return 0.0.\n",
    "        try:\n",
    "            return normalized_rmse(y_true, list(map(float, y_pred)))\n",
    "        except:\n",
    "            return 0.0\n",
    "\n",
    "\n",
    "def benetech_score(ground_truth: pd.DataFrame, predictions: pd.DataFrame) -> float:\n",
    "    \"\"\"Evaluate predictions using the metric from the Benetech - Making Graphs Accessible.\n",
    "\n",
    "    Parameters\n",
    "    ----------\n",
    "    ground_truth: pd.DataFrame\n",
    "        Has columns `[data_series, chart_type]` and an index `id`. Values in `data_series`\n",
    "        should be either arrays of floats or arrays of strings.\n",
    "\n",
    "    predictions: pd.DataFrame\n",
    "    \"\"\"\n",
    "    if not ground_truth.index.equals(predictions.index):\n",
    "        raise ValueError(\n",
    "            \"Must have exactly one prediction for each ground-truth instance.\"\n",
    "        )\n",
    "    if not ground_truth.columns.equals(predictions.columns):\n",
    "        raise ValueError(f\"Predictions must have columns: {ground_truth.columns}.\")\n",
    "    pairs = zip(\n",
    "        ground_truth.itertuples(index=False), predictions.itertuples(index=False)\n",
    "    )\n",
    "    scores = []\n",
    "    for (gt_series, gt_type), (pred_series, pred_type) in pairs:\n",
    "        if gt_type != pred_type:  # Check chart_type condition\n",
    "            scores.append(0.0)\n",
    "        else:  # Score with RMSE or Levenshtein as appropriate\n",
    "            scores.append(score_series(gt_series, pred_series))\n",
    "\n",
    "    ground_truth[\"score\"] = scores\n",
    "\n",
    "    grouped = ground_truth.groupby(\"chart_type\", as_index=False)[\"score\"].mean()\n",
    "\n",
    "    chart_type2score = {\n",
    "        chart_type: score\n",
    "        for chart_type, score in zip(grouped[\"chart_type\"], grouped[\"score\"])\n",
    "    }\n",
    "\n",
    "    return np.mean(scores), chart_type2score\n",
    "\n",
    "\n",
    "def string2triplet(pred_string: str) -> Tuple[str, List[str], List[str]]:\n",
    "    \"\"\"\n",
    "    Convert a prediction string to a triplet of chart type, x values, and y values.\n",
    "\n",
    "    Args:\n",
    "        pred_string (str): The prediction string.\n",
    "\n",
    "    Returns:\n",
    "        Tuple[str, List[str], List[str]]: A triplet of chart type, x values, and y values.\n",
    "    \"\"\"\n",
    "    \n",
    "    chart_type = \"line\"\n",
    "    for tok in CHART_TYPE_TOKENS:\n",
    "        if tok in pred_string:\n",
    "            chart_type = tok.strip(\"<>\")\n",
    "\n",
    "    pred_string = re.sub(r\"<one>\", \"1\", pred_string)\n",
    "\n",
    "    x = pred_string.split(X_START)[1].split(X_END)[0].split(\";\")\n",
    "    y = pred_string.split(Y_START)[1].split(Y_END)[0].split(\";\")\n",
    "\n",
    "    if len(x) == 0 or len(y) == 0:\n",
    "        return chart_type, [], []\n",
    "\n",
    "    min_length = min(len(x), len(y))\n",
    "\n",
    "    x = x[:min_length]\n",
    "    y = y[:min_length]\n",
    "\n",
    "    return chart_type, x, y\n",
    "\n",
    "\n",
    "def validation_metrics(val_outputs: List[str], val_ids: List[str], gt_df: pd.DataFrame) -> Dict[str, float]:\n",
    "    \"\"\"\n",
    "    Calculate validation metrics for a set of outputs, ids, and ground truth dataframe.\n",
    "\n",
    "    Args:\n",
    "        val_outputs (List[str]): A list of validation outputs.\n",
    "        val_ids (List[str]): A list of validation ids.\n",
    "        gt_df (pd.DataFrame): The ground truth dataframe.\n",
    "\n",
    "    Returns:\n",
    "        Dict[str, float]: A dictionary containing the validation scores.\n",
    "    \"\"\"\n",
    "    pred_triplets = []\n",
    "\n",
    "    for example_output in val_outputs:\n",
    "\n",
    "        if not all([x in example_output for x in [X_START, X_END, Y_START, Y_END]]):\n",
    "            pred_triplets.append((\"line\", [], []))\n",
    "        else:\n",
    "            pred_triplets.append(string2triplet(example_output))\n",
    "\n",
    "    pred_df = pd.DataFrame(\n",
    "        index=[f\"{id_}_x\" for id_ in val_ids] + [f\"{id_}_y\" for id_ in val_ids],\n",
    "        data={\n",
    "            \"data_series\": [x[1] for x in pred_triplets]\n",
    "            + [x[2] for x in pred_triplets],\n",
    "            \"chart_type\": [x[0] for x in pred_triplets] * 2,\n",
    "        },\n",
    "    )\n",
    "\n",
    "    overall_score, chart_type2score = benetech_score(\n",
    "        gt_df.loc[pred_df.index.values], pred_df\n",
    "    )\n",
    "\n",
    "    return {\n",
    "        \"val_score\": overall_score,\n",
    "        **{f\"{k}_score\": v for k, v in chart_type2score.items()},\n",
    "    }\n"
   ]
  },
  {
   "cell_type": "markdown",
   "metadata": {},
   "source": [
    "# Lightning Module\n",
    "\n",
    "It will use generation for validation which can be very slow. If you want to utilize the two GPUs on Kaggle, you should probably not run it in a notebook because DDP gets funky when doing that."
   ]
  },
  {
   "cell_type": "code",
   "execution_count": 22,
   "metadata": {
    "execution": {
     "iopub.execute_input": "2023-04-04T22:55:52.923125Z",
     "iopub.status.busy": "2023-04-04T22:55:52.92272Z",
     "iopub.status.idle": "2023-04-04T22:55:54.855523Z",
     "shell.execute_reply": "2023-04-04T22:55:54.854429Z",
     "shell.execute_reply.started": "2023-04-04T22:55:52.923088Z"
    },
    "trusted": true
   },
   "outputs": [],
   "source": [
    "import pytorch_lightning as pl\n",
    "from transformers import PreTrainedTokenizerBase, PreTrainedModel\n",
    "from typing import Dict, List, Any\n",
    "import torch\n",
    "import pandas as pd\n",
    "\n",
    "class DonutModelPLModule(pl.LightningModule):\n",
    "    def __init__(\n",
    "        self,\n",
    "        processor: PreTrainedTokenizerBase,\n",
    "        model: PreTrainedModel,\n",
    "        gt_df: pd.DataFrame,\n",
    "        num_training_steps: int\n",
    "    ):\n",
    "        \"\"\"\n",
    "        A PyTorch Lightning module for the DonutModel.\n",
    "\n",
    "        Args:\n",
    "            processor (PreTrainedTokenizerBase): The tokenizer/processor for the model.\n",
    "            model (PreTrainedModel): The pretrained model.\n",
    "            gt_df (pd.DataFrame): The ground truth dataframe.\n",
    "            num_training_steps (int): The number of training steps.\n",
    "        \"\"\"\n",
    "        super().__init__()\n",
    "        self.processor = processor\n",
    "        self.model = model\n",
    "        self.gt_df = gt_df\n",
    "        self.num_training_steps = num_training_steps\n",
    "\n",
    "        # Initialize validation outputs and IDs\n",
    "        self.val_outputs = []\n",
    "        self.val_ids = []\n",
    "\n",
    "    def training_step(self, batch: Dict[str, torch.Tensor], batch_idx: int) -> torch.Tensor:\n",
    "        pixel_values = batch[\"pixel_values\"]\n",
    "        labels = batch[\"labels\"]\n",
    "\n",
    "        outputs = self.model(pixel_values, labels=labels)\n",
    "        loss = outputs.loss\n",
    "        self.log(\"train_loss\", loss, on_step=True, on_epoch=True, prog_bar=True)\n",
    "        return loss\n",
    "\n",
    "    def validation_step(self, batch: Dict[str, torch.Tensor], batch_idx: int, dataloader_idx: int = 0) -> None:\n",
    "        pixel_values = batch[\"pixel_values\"]\n",
    "        batch_size = pixel_values.shape[0]\n",
    "\n",
    "        # Prepare decoder input IDs\n",
    "        decoder_input_ids = torch.full(\n",
    "            (batch_size, 1),\n",
    "            self.model.config.decoder_start_token_id,\n",
    "            device=self.device,\n",
    "        )\n",
    "\n",
    "        # Generate outputs\n",
    "        outputs = self.model.generate(\n",
    "            pixel_values,\n",
    "            decoder_input_ids=decoder_input_ids,\n",
    "            max_length=CFG.max_length,\n",
    "            early_stopping=True,\n",
    "            pad_token_id=self.processor.tokenizer.pad_token_id,\n",
    "            eos_token_id=self.processor.tokenizer.eos_token_id,\n",
    "            use_cache=True,\n",
    "            num_beams=1,\n",
    "            top_k=1,\n",
    "            bad_words_ids=[[self.processor.tokenizer.unk_token_id]],\n",
    "            return_dict_in_generate=True,\n",
    "        )\n",
    "\n",
    "        # Decode and store outputs and IDs\n",
    "        decoded_sequences = self.processor.tokenizer.batch_decode(outputs.sequences, skip_special_tokens=True)\n",
    "        self.val_outputs.extend(decoded_sequences)\n",
    "        self.val_ids.extend(batch[\"id\"])\n",
    "\n",
    "    def on_validation_start(self) -> None:\n",
    "        self.val_outputs = []\n",
    "        self.val_ids = []\n",
    "\n",
    "    def on_validation_epoch_end(self) -> None:\n",
    "        metrics = validation_metrics(self.val_outputs, self.val_ids, self.gt_df)\n",
    "        print(\"\\n\", metrics)\n",
    "        self.log_dict(metrics)\n",
    "        self.val_outputs = []\n",
    "        self.val_ids = []\n",
    "\n",
    "    def configure_optimizers(self) -> torch.optim.Optimizer:\n",
    "        optimizer = torch.optim.Adam(self.parameters(), lr=CFG.lr)\n",
    "        return optimizer"
   ]
  },
  {
   "cell_type": "code",
   "execution_count": null,
   "metadata": {},
   "outputs": [],
   "source": []
  },
  {
   "cell_type": "markdown",
   "metadata": {},
   "source": [
    "# Create model and ground truth dataframe"
   ]
  },
  {
   "cell_type": "code",
   "execution_count": 23,
   "metadata": {
    "execution": {
     "iopub.execute_input": "2023-04-04T22:55:54.857465Z",
     "iopub.status.busy": "2023-04-04T22:55:54.857065Z",
     "iopub.status.idle": "2023-04-04T22:56:09.792729Z",
     "shell.execute_reply": "2023-04-04T22:56:09.791446Z",
     "shell.execute_reply.started": "2023-04-04T22:55:54.857378Z"
    },
    "trusted": true
   },
   "outputs": [
    {
     "name": "stderr",
     "output_type": "stream",
     "text": [
      "Config of the encoder: <class 'transformers.models.donut.modeling_donut_swin.DonutSwinModel'> is overwritten by shared encoder config: DonutSwinConfig {\n",
      "  \"attention_probs_dropout_prob\": 0.0,\n",
      "  \"depths\": [\n",
      "    2,\n",
      "    2,\n",
      "    14,\n",
      "    2\n",
      "  ],\n",
      "  \"drop_path_rate\": 0.1,\n",
      "  \"embed_dim\": 128,\n",
      "  \"hidden_act\": \"gelu\",\n",
      "  \"hidden_dropout_prob\": 0.0,\n",
      "  \"hidden_size\": 1024,\n",
      "  \"image_size\": [\n",
      "    560,\n",
      "    560\n",
      "  ],\n",
      "  \"initializer_range\": 0.02,\n",
      "  \"layer_norm_eps\": 1e-05,\n",
      "  \"mlp_ratio\": 4.0,\n",
      "  \"model_type\": \"donut-swin\",\n",
      "  \"num_channels\": 3,\n",
      "  \"num_heads\": [\n",
      "    4,\n",
      "    8,\n",
      "    16,\n",
      "    32\n",
      "  ],\n",
      "  \"num_layers\": 4,\n",
      "  \"patch_size\": 4,\n",
      "  \"path_norm\": true,\n",
      "  \"qkv_bias\": true,\n",
      "  \"transformers_version\": \"4.46.3\",\n",
      "  \"use_absolute_embeddings\": false,\n",
      "  \"window_size\": 10\n",
      "}\n",
      "\n",
      "Config of the decoder: <class 'transformers.models.mbart.modeling_mbart.MBartForCausalLM'> is overwritten by shared decoder config: MBartConfig {\n",
      "  \"activation_dropout\": 0.0,\n",
      "  \"activation_function\": \"gelu\",\n",
      "  \"add_cross_attention\": true,\n",
      "  \"add_final_layer_norm\": true,\n",
      "  \"attention_dropout\": 0.0,\n",
      "  \"bos_token_id\": 0,\n",
      "  \"classifier_dropout\": 0.0,\n",
      "  \"d_model\": 1024,\n",
      "  \"decoder_attention_heads\": 16,\n",
      "  \"decoder_ffn_dim\": 4096,\n",
      "  \"decoder_layerdrop\": 0.0,\n",
      "  \"decoder_layers\": 4,\n",
      "  \"dropout\": 0.1,\n",
      "  \"encoder_attention_heads\": 16,\n",
      "  \"encoder_ffn_dim\": 4096,\n",
      "  \"encoder_layerdrop\": 0.0,\n",
      "  \"encoder_layers\": 12,\n",
      "  \"eos_token_id\": 2,\n",
      "  \"forced_eos_token_id\": 2,\n",
      "  \"init_std\": 0.02,\n",
      "  \"is_decoder\": true,\n",
      "  \"is_encoder_decoder\": false,\n",
      "  \"max_length\": 1024,\n",
      "  \"max_position_embeddings\": 1536,\n",
      "  \"model_type\": \"mbart\",\n",
      "  \"num_hidden_layers\": 12,\n",
      "  \"pad_token_id\": 1,\n",
      "  \"scale_embedding\": true,\n",
      "  \"transformers_version\": \"4.46.3\",\n",
      "  \"use_cache\": true,\n",
      "  \"vocab_size\": 57525\n",
      "}\n",
      "\n",
      "The new embeddings will be initialized from a multivariate normal distribution that has old embeddings' mean and covariance. As described in this article: https://nlp.stanford.edu/~johnhew/vocab-expansion.html. To disable this, use `mean_resizing=False`\n"
     ]
    }
   ],
   "source": [
    "gt_chart_type = val_gt_ds[\"chart-type\"]\n",
    "gt_x = [json.loads(_) for _ in val_gt_ds[\"x\"]]\n",
    "gt_y = [json.loads(_) for _ in val_gt_ds[\"y\"]]\n",
    "gt_ids = val_gt_ds[\"id\"]\n",
    "\n",
    "index = [f\"{id_}_x\" for id_ in gt_ids] + [f\"{id_}_y\" for id_ in gt_ids]\n",
    "gt_df = pd.DataFrame(\n",
    "    index=index,\n",
    "    data={\n",
    "        \"data_series\": gt_x + gt_y,\n",
    "        \"chart_type\": gt_chart_type * 2,\n",
    "    },\n",
    ")\n",
    "\n",
    "\n",
    "model = VisionEncoderDecoderModel.from_pretrained(\n",
    "    \"naver-clova-ix/donut-base\", config=config\n",
    ")\n",
    "model.decoder.resize_token_embeddings(len(processor.tokenizer))\n",
    "model_module = DonutModelPLModule(processor, model, gt_df, num_training_steps)"
   ]
  },
  {
   "cell_type": "markdown",
   "metadata": {},
   "source": [
    "# Train!"
   ]
  },
  {
   "cell_type": "code",
   "execution_count": 24,
   "metadata": {
    "execution": {
     "iopub.execute_input": "2023-04-04T22:56:09.794834Z",
     "iopub.status.busy": "2023-04-04T22:56:09.79413Z",
     "iopub.status.idle": "2023-04-05T04:39:30.160099Z",
     "shell.execute_reply": "2023-04-05T04:39:30.158486Z",
     "shell.execute_reply.started": "2023-04-04T22:56:09.794791Z"
    },
    "trusted": true
   },
   "outputs": [
    {
     "name": "stderr",
     "output_type": "stream",
     "text": [
      "Using 16bit Automatic Mixed Precision (AMP)\n",
      "GPU available: True (cuda), used: True\n",
      "TPU available: False, using: 0 TPU cores\n",
      "HPU available: False, using: 0 HPUs\n",
      "`Trainer(val_check_interval=1.0)` was configured so validation will run at the end of the training epoch..\n",
      "/home/amir/miniconda3/envs/doc-ai/lib/python3.10/site-packages/pytorch_lightning/trainer/configuration_validator.py:70: You defined a `validation_step` but have no `val_dataloader`. Skipping val loop.\n",
      "You are using a CUDA device ('NVIDIA GeForce RTX 3090') that has Tensor Cores. To properly utilize them, you should set `torch.set_float32_matmul_precision('medium' | 'high')` which will trade-off precision for performance. For more details, read https://pytorch.org/docs/stable/generated/torch.set_float32_matmul_precision.html#torch.set_float32_matmul_precision\n",
      "LOCAL_RANK: 0 - CUDA_VISIBLE_DEVICES: [0]\n",
      "\n",
      "  | Name  | Type                      | Params | Mode\n",
      "-----------------------------------------------------------\n",
      "0 | model | VisionEncoderDecoderModel | 201 M  | eval\n",
      "-----------------------------------------------------------\n",
      "201 M     Trainable params\n",
      "0         Non-trainable params\n",
      "201 M     Total params\n",
      "807.453   Total estimated model params size (MB)\n",
      "0         Modules in train mode\n",
      "484       Modules in eval mode\n"
     ]
    },
    {
     "name": "stdout",
     "output_type": "stream",
     "text": [
      "Epoch 0:   0%|          | 1/30149 [00:00<4:25:56,  1.89it/s, train_loss_step=8.180]"
     ]
    },
    {
     "name": "stderr",
     "output_type": "stream",
     "text": [
      "/home/amir/miniconda3/envs/doc-ai/lib/python3.10/site-packages/pytorch_lightning/utilities/data.py:78: Trying to infer the `batch_size` from an ambiguous collection. The batch size we found is 2. To avoid any miscalculations, use `self.log(..., batch_size=batch_size)`.\n"
     ]
    },
    {
     "name": "stdout",
     "output_type": "stream",
     "text": [
      "Epoch 1: 100%|██████████| 30149/30149 [50:03<00:00, 10.04it/s, train_loss_step=0.646, train_loss_epoch=0.778]   "
     ]
    },
    {
     "name": "stderr",
     "output_type": "stream",
     "text": [
      "`Trainer.fit` stopped: `max_epochs=2` reached.\n"
     ]
    },
    {
     "name": "stdout",
     "output_type": "stream",
     "text": [
      "Epoch 1: 100%|██████████| 30149/30149 [50:05<00:00, 10.03it/s, train_loss_step=0.646, train_loss_epoch=0.778]\n"
     ]
    }
   ],
   "source": [
    "from pytorch_lightning.callbacks import ModelCheckpoint\n",
    "from pytorch_lightning.loggers import WandbLogger\n",
    "\n",
    "checkpoint_cb = ModelCheckpoint(CFG.output_path)\n",
    "\n",
    "loggers = []\n",
    "if CFG.use_wandb:\n",
    "    import wandb\n",
    "    from kaggle_secrets import UserSecretsClient\n",
    "    user_secrets = UserSecretsClient()\n",
    "    key = user_secrets.get_secret(\"wandb\")\n",
    "    wandb.login(key=key)\n",
    "    \n",
    "    loggers.append(WandbLogger(project=\"benetech\"))\n",
    "\n",
    "\n",
    "# 1. Update Trainer Precision\n",
    "trainer = pl.Trainer(\n",
    "    accelerator=\"gpu\",\n",
    "    devices=1,\n",
    "    max_epochs=CFG.epochs,\n",
    "    val_check_interval=CFG.val_check_interval,\n",
    "    check_val_every_n_epoch=CFG.check_val_every_n_epoch,\n",
    "    gradient_clip_val=CFG.gradient_clip_val,\n",
    "    precision=\"16-mixed\",  # Updated precision\n",
    "    num_sanity_val_steps=5,\n",
    "    callbacks=[checkpoint_cb], \n",
    "    logger=loggers\n",
    ")\n",
    "\n",
    "trainer.fit(model_module, train_dataloaders=train_dataloader)"
   ]
  },
  {
   "cell_type": "markdown",
   "metadata": {},
   "source": [
    "I interrupted the run because I was impatient"
   ]
  },
  {
   "cell_type": "code",
   "execution_count": 25,
   "metadata": {
    "execution": {
     "iopub.execute_input": "2023-04-05T04:39:56.863632Z",
     "iopub.status.busy": "2023-04-05T04:39:56.863039Z",
     "iopub.status.idle": "2023-04-05T04:54:42.779124Z",
     "shell.execute_reply": "2023-04-05T04:54:42.77779Z",
     "shell.execute_reply.started": "2023-04-05T04:39:56.863593Z"
    },
    "trusted": true
   },
   "outputs": [
    {
     "name": "stderr",
     "output_type": "stream",
     "text": [
      "LOCAL_RANK: 0 - CUDA_VISIBLE_DEVICES: [0]\n"
     ]
    },
    {
     "name": "stdout",
     "output_type": "stream",
     "text": [
      "Validation DataLoader 0:   0%|          | 0/140 [00:00<?, ?it/s]"
     ]
    },
    {
     "name": "stderr",
     "output_type": "stream",
     "text": [
      "/home/amir/miniconda3/envs/doc-ai/lib/python3.10/site-packages/transformers/generation/configuration_utils.py:612: UserWarning: `do_sample` is set to `False`. However, `top_k` is set to `1` -- this flag is only used in sample-based generation modes. You should set `do_sample=True` or unset `top_k`.\n",
      "  warnings.warn(\n",
      "/home/amir/miniconda3/envs/doc-ai/lib/python3.10/site-packages/transformers/generation/configuration_utils.py:638: UserWarning: `num_beams` is set to 1. However, `early_stopping` is set to `True` -- this flag is only used in beam-based generation modes. You should set `num_beams>1` or unset `early_stopping`.\n",
      "  warnings.warn(\n"
     ]
    },
    {
     "name": "stdout",
     "output_type": "stream",
     "text": [
      "Validation DataLoader 0: 100%|██████████| 140/140 [02:35<00:00,  0.90it/s]\n",
      " {'val_score': np.float64(0.38899295848575033), 'horizontal_bar_score': 0.0, 'line_score': 0.4388653663747004, 'scatter_score': 0.06163985955942314, 'vertical_bar_score': 0.528493778992726}\n",
      "Validation DataLoader 0: 100%|██████████| 140/140 [02:35<00:00,  0.90it/s]\n",
      "────────────────────────────────────────────────────────────────────────────────────────────────────────────────────────\n",
      "     Validate metric           DataLoader 0\n",
      "────────────────────────────────────────────────────────────────────────────────────────────────────────────────────────\n",
      "  horizontal_bar_score              0.0\n",
      "       line_score           0.4388653635978699\n",
      "      scatter_score         0.06163986027240753\n",
      "        val_score           0.38899296522140503\n",
      "   vertical_bar_score       0.5284937620162964\n",
      "────────────────────────────────────────────────────────────────────────────────────────────────────────────────────────\n"
     ]
    },
    {
     "data": {
      "text/plain": [
       "[{'val_score': 0.38899296522140503,\n",
       "  'horizontal_bar_score': 0.0,\n",
       "  'line_score': 0.4388653635978699,\n",
       "  'scatter_score': 0.06163986027240753,\n",
       "  'vertical_bar_score': 0.5284937620162964}]"
      ]
     },
     "execution_count": 25,
     "metadata": {},
     "output_type": "execute_result"
    }
   ],
   "source": [
    "trainer.validate(model_module, dataloaders=val_dataloader)"
   ]
  },
  {
   "cell_type": "code",
   "execution_count": 26,
   "metadata": {
    "execution": {
     "iopub.execute_input": "2023-04-05T04:54:58.979678Z",
     "iopub.status.busy": "2023-04-05T04:54:58.97871Z",
     "iopub.status.idle": "2023-04-05T04:55:00.733355Z",
     "shell.execute_reply": "2023-04-05T04:55:00.732081Z",
     "shell.execute_reply.started": "2023-04-05T04:54:58.979635Z"
    },
    "trusted": true
   },
   "outputs": [
    {
     "data": {
      "text/plain": [
       "[]"
      ]
     },
     "execution_count": 26,
     "metadata": {},
     "output_type": "execute_result"
    }
   ],
   "source": [
    "# Could also use the checkpoint callback\n",
    "model_module.model.save_pretrained(CFG.output_path)\n",
    "model_module.processor.save_pretrained(CFG.output_path)"
   ]
  }
 ],
 "metadata": {
  "kaggle": {
   "accelerator": "nvidiaTeslaT4",
   "dataSources": [
    {
     "databundleVersionId": 5585780,
     "sourceId": 43873,
     "sourceType": "competition"
    }
   ],
   "dockerImageVersionId": 30408,
   "isGpuEnabled": true,
   "isInternetEnabled": true,
   "language": "python",
   "sourceType": "notebook"
  },
  "kernelspec": {
   "display_name": "doc-ai",
   "language": "python",
   "name": "python3"
  },
  "language_info": {
   "codemirror_mode": {
    "name": "ipython",
    "version": 3
   },
   "file_extension": ".py",
   "mimetype": "text/x-python",
   "name": "python",
   "nbconvert_exporter": "python",
   "pygments_lexer": "ipython3",
   "version": "3.10.15"
  }
 },
 "nbformat": 4,
 "nbformat_minor": 4
}
